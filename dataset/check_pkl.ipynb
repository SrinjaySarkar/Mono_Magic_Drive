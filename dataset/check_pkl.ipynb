{
 "cells": [
  {
   "cell_type": "code",
   "execution_count": 1,
   "metadata": {},
   "outputs": [],
   "source": [
    "import os\n",
    "import numpy as np\n",
    "import pickle\n",
    "import json"
   ]
  },
  {
   "cell_type": "code",
   "execution_count": 13,
   "metadata": {},
   "outputs": [
    {
     "name": "stdout",
     "output_type": "stream",
     "text": [
      "dict_keys(['infos', 'metadata'])\n"
     ]
    }
   ],
   "source": [
    "root=\"/data/sunny/MagicDrive/data/nuscenes_mmdet3d_2/\"\n",
    "root1=\"/data/sunny/MagicDrive/data/nusc_mmdet3d_2/\"\n",
    "root2=\"/data/sunny/MagicDrive/data/nuscenes/nuscenes_dbinfos_train.pkl\"\n",
    "root3=\"/data/sunny/MagicDrive/data/nuscenes/maps/expansion/singapore-onenorth.json\"\n",
    "\n",
    "with open(os.path.join(root1,'nuscenes_infos_train.pkl'),'rb') as f:\n",
    "    data=pickle.load(f)\n",
    "print(data.keys())"
   ]
  },
  {
   "cell_type": "code",
   "execution_count": 15,
   "metadata": {},
   "outputs": [
    {
     "name": "stdout",
     "output_type": "stream",
     "text": [
      "dict_keys(['lidar_path', 'token', 'sweeps', 'cams', 'lidar2ego_translation', 'lidar2ego_rotation', 'ego2global_translation', 'ego2global_rotation', 'timestamp', 'location', 'description', 'timeofday', 'gt_boxes', 'gt_names', 'gt_velocity', 'num_lidar_pts', 'num_radar_pts', 'visibility', 'valid_flag'])\n",
      "/data/sunny/MagicDrive/data/nuscenes/samples/CAM_FRONT/n015-2018-07-18-11-07-57+0800__CAM_FRONT__1531883530412470.jpg\n",
      "/MagicDrive/data/sunny/MagicDrive/data/nuscenes/samples/CAM_FRONT/n015-2018-07-18-11-07-57+0800__CAM_FRONT__1531883530412470.jpg\n"
     ]
    },
    {
     "ename": "AssertionError",
     "evalue": "",
     "output_type": "error",
     "traceback": [
      "\u001b[0;31m---------------------------------------------------------------------------\u001b[0m",
      "\u001b[0;31mAssertionError\u001b[0m                            Traceback (most recent call last)",
      "Cell \u001b[0;32mIn[15], line 19\u001b[0m\n\u001b[1;32m     16\u001b[0m         new_path\u001b[38;5;241m+\u001b[39m\u001b[38;5;241m=\u001b[39mitems\n\u001b[1;32m     18\u001b[0m \u001b[38;5;28mprint\u001b[39m(new_path)\n\u001b[0;32m---> 19\u001b[0m \u001b[38;5;28;01massert\u001b[39;00m (os\u001b[38;5;241m.\u001b[39mpath\u001b[38;5;241m.\u001b[39misfile(new_path))\n",
      "\u001b[0;31mAssertionError\u001b[0m: "
     ]
    }
   ],
   "source": [
    "x=data[\"infos\"][0]\n",
    "print(x.keys())\n",
    "# print(x[\"cams\"].items())\n",
    "old_path=x[\"cams\"][\"CAM_FRONT\"][\"data_path\"]\n",
    "print(old_path)\n",
    "\n",
    "new_path=old_path\n",
    "# old_path=old_path.split(\"/\")\n",
    "# # print(old_path)\n",
    "# old_path=old_path[2:]\n",
    "# new_path=\"/MagicDrive/data/\"\n",
    "# for idx,items in enumerate(old_path):\n",
    "#     if idx!=len(old_path)-1:\n",
    "#         new_path+=items+\"/\"\n",
    "#     else:\n",
    "#         new_path+=items\n",
    "\n",
    "print(new_path)\n",
    "assert (os.path.isfile(new_path))\n"
   ]
  }
 ],
 "metadata": {
  "kernelspec": {
   "display_name": "Python 3",
   "language": "python",
   "name": "python3"
  },
  "language_info": {
   "codemirror_mode": {
    "name": "ipython",
    "version": 3
   },
   "file_extension": ".py",
   "mimetype": "text/x-python",
   "name": "python",
   "nbconvert_exporter": "python",
   "pygments_lexer": "ipython3",
   "version": "3.8.0"
  }
 },
 "nbformat": 4,
 "nbformat_minor": 2
}
